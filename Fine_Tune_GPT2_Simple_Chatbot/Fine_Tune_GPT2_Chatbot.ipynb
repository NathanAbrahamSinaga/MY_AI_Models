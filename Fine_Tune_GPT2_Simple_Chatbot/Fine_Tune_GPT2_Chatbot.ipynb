{
 "cells": [
  {
   "cell_type": "code",
   "execution_count": 8,
   "id": "1b7218dc-3c4f-4041-9b41-3cde1038c99d",
   "metadata": {},
   "outputs": [],
   "source": [
    "import torch\n",
    "from transformers import GPT2LMHeadModel, GPT2Tokenizer, TextDataset, DataCollatorForLanguageModeling\n",
    "from transformers import Trainer, TrainingArguments\n",
    "import numpy as np\n",
    "from torch.utils.data import Dataset\n",
    "import os"
   ]
  },
  {
   "cell_type": "code",
   "execution_count": 9,
   "id": "473d2197-3b44-49c7-a462-b2bfe3681617",
   "metadata": {},
   "outputs": [],
   "source": [
    "messages = [\n",
    "        'Kamu ngapain begini begitu',\n",
    "        'Kelazz vroo',\n",
    "        'Bukti himnel tidak bersalah',\n",
    "        'Mantap bang sudah selesai',\n",
    "        'Ayo main game bareng',\n",
    "        'Jangan lupa istirahat ya',\n",
    "        'Besok kita ketemu dimana?',\n",
    "        'Sudah makan belum?',\n",
    "        'Keren banget projectnya',\n",
    "        'Jangan lupa deadline besok',\n",
    "        'Mau ikut gathering tidak?',\n",
    "        'Update progress dong',\n",
    "        'Gimana kabarnya hari ini?',\n",
    "        'Sudah selesai tugasnya?',\n",
    "        'Main game yuk nanti malam',\n",
    "        'Besok ada acara apa?',\n",
    "        'Kumpul dimana nih?',\n",
    "        'Mantap jiwa bro',\n",
    "        'Sip dah beres semua',\n",
    "        'Nanti kabarin lagi ya',\n",
    "        'Semangat pagi ini!',\n",
    "        'Meeting jam berapa nanti?',\n",
    "        'Project kita udah bagus banget.',\n",
    "        'Jangan lupa minum air putih ya.',\n",
    "        'Kita bisa ngobrol lagi malam ini.',\n",
    "        'Selamat atas kesuksesanmu!',\n",
    "        'Ada update progress gak?',\n",
    "        'Besok kita keluar bareng ya.',\n",
    "        'Terima kasih sudah bantu.',\n",
    "        'Kamu ada rencana akhir pekan?',\n",
    "        'Bagaimana progres tugasmu?',\n",
    "        'Jangan terlalu keras dalam bekerja.',\n",
    "        'Kita bisa diskusikan lagi nanti.',\n",
    "        'Semoga harimu menyenangkan!',\n",
    "        'Ayo selesaikan ini bareng-bareng.'\n",
    "    ]"
   ]
  },
  {
   "cell_type": "code",
   "execution_count": 10,
   "id": "e0541ac5-d64e-4e85-9c3c-639de7cb5663",
   "metadata": {},
   "outputs": [],
   "source": [
    "with open('chat_data.txt', 'w', encoding='utf-8') as f:\n",
    "    for message in messages:\n",
    "        f.write(message + '\\n')"
   ]
  },
  {
   "cell_type": "code",
   "execution_count": 11,
   "id": "5ce2f84d-2f80-48c2-bb61-1737a964e7ff",
   "metadata": {},
   "outputs": [],
   "source": [
    "tokenizer = GPT2Tokenizer.from_pretrained('openai-community/gpt2')\n",
    "model = GPT2LMHeadModel.from_pretrained('openai-community/gpt2')"
   ]
  },
  {
   "cell_type": "code",
   "execution_count": 12,
   "id": "f4584888-0784-4583-978b-2828b28bd412",
   "metadata": {},
   "outputs": [],
   "source": [
    "tokenizer.pad_token = tokenizer.eos_token"
   ]
  },
  {
   "cell_type": "code",
   "execution_count": 13,
   "id": "3ba517da-7fef-4c8c-92b1-a4f96d8650f9",
   "metadata": {},
   "outputs": [],
   "source": [
    "class ChatDataset(Dataset):\n",
    "    def __init__(self, txt_file, tokenizer):\n",
    "        self.tokenizer = tokenizer\n",
    "        with open(txt_file, 'r', encoding='utf-8') as f:\n",
    "            self.lines = [line.strip() for line in f.readlines()]\n",
    "\n",
    "    def __len__(self):\n",
    "        return len(self.lines)\n",
    "\n",
    "    def __getitem__(self, idx):\n",
    "        line = self.lines[idx]\n",
    "        encodings = self.tokenizer(line, truncation=True, padding='max_length',\n",
    "                                 max_length=64, return_tensors='pt')\n",
    "\n",
    "        item = {key: torch.squeeze(val) for key, val in encodings.items()}\n",
    "        item['labels'] = item['input_ids'].clone()\n",
    "\n",
    "        return item"
   ]
  },
  {
   "cell_type": "code",
   "execution_count": 14,
   "id": "af1f2c7e-36dd-436b-a3cc-9f44cb621019",
   "metadata": {},
   "outputs": [],
   "source": [
    "dataset = ChatDataset('chat_data.txt', tokenizer)"
   ]
  },
  {
   "cell_type": "code",
   "execution_count": 15,
   "id": "9c8183f6-7a6a-4af9-ac66-f4e9c0f11be2",
   "metadata": {},
   "outputs": [],
   "source": [
    "training_args = TrainingArguments(\n",
    "    output_dir=\"./chat-model\",\n",
    "    num_train_epochs=50,\n",
    "    per_device_train_batch_size=4,\n",
    "    save_steps=500,\n",
    "    save_total_limit=2,\n",
    "    logging_dir='./logs',\n",
    "    logging_steps=100,\n",
    "    learning_rate=5e-5,\n",
    "    report_to='none'\n",
    ")"
   ]
  },
  {
   "cell_type": "code",
   "execution_count": 16,
   "id": "0bf32bd8-1399-4063-ba66-679952cf88a6",
   "metadata": {},
   "outputs": [],
   "source": [
    "trainer = Trainer(\n",
    "    model=model,\n",
    "    args=training_args,\n",
    "    train_dataset=dataset,\n",
    "    data_collator=lambda data: {'input_ids': torch.stack([f['input_ids'] for f in data]),\n",
    "                               'attention_mask': torch.stack([f['attention_mask'] for f in data]),\n",
    "                               'labels': torch.stack([f['labels'] for f in data])}\n",
    ")"
   ]
  },
  {
   "cell_type": "code",
   "execution_count": 17,
   "id": "2ecc35c9-b738-435c-a6f5-764bc5e7298d",
   "metadata": {},
   "outputs": [
    {
     "data": {
      "text/html": [
       "\n",
       "    <div>\n",
       "      \n",
       "      <progress value='450' max='450' style='width:300px; height:20px; vertical-align: middle;'></progress>\n",
       "      [450/450 16:36, Epoch 50/50]\n",
       "    </div>\n",
       "    <table border=\"1\" class=\"dataframe\">\n",
       "  <thead>\n",
       " <tr style=\"text-align: left;\">\n",
       "      <th>Step</th>\n",
       "      <th>Training Loss</th>\n",
       "    </tr>\n",
       "  </thead>\n",
       "  <tbody>\n",
       "    <tr>\n",
       "      <td>100</td>\n",
       "      <td>0.635800</td>\n",
       "    </tr>\n",
       "    <tr>\n",
       "      <td>200</td>\n",
       "      <td>0.084600</td>\n",
       "    </tr>\n",
       "    <tr>\n",
       "      <td>300</td>\n",
       "      <td>0.057100</td>\n",
       "    </tr>\n",
       "    <tr>\n",
       "      <td>400</td>\n",
       "      <td>0.052200</td>\n",
       "    </tr>\n",
       "  </tbody>\n",
       "</table><p>"
      ],
      "text/plain": [
       "<IPython.core.display.HTML object>"
      ]
     },
     "metadata": {},
     "output_type": "display_data"
    },
    {
     "data": {
      "text/plain": [
       "TrainOutput(global_step=450, training_loss=0.19042477501763239, metrics={'train_runtime': 999.43, 'train_samples_per_second': 1.751, 'train_steps_per_second': 0.45, 'total_flos': 57157632000000.0, 'train_loss': 0.19042477501763239, 'epoch': 50.0})"
      ]
     },
     "execution_count": 17,
     "metadata": {},
     "output_type": "execute_result"
    }
   ],
   "source": [
    "trainer.train()"
   ]
  },
  {
   "cell_type": "code",
   "execution_count": 18,
   "id": "258903af-f503-4be9-bab9-ffb20258cc60",
   "metadata": {},
   "outputs": [
    {
     "data": {
      "text/plain": [
       "('./chat-model-final\\\\tokenizer_config.json',\n",
       " './chat-model-final\\\\special_tokens_map.json',\n",
       " './chat-model-final\\\\vocab.json',\n",
       " './chat-model-final\\\\merges.txt',\n",
       " './chat-model-final\\\\added_tokens.json')"
      ]
     },
     "execution_count": 18,
     "metadata": {},
     "output_type": "execute_result"
    }
   ],
   "source": [
    "model.save_pretrained('./chat-model-final')\n",
    "tokenizer.save_pretrained('./chat-model-final')"
   ]
  },
  {
   "cell_type": "code",
   "execution_count": 70,
   "id": "4ac3b75b-e79a-49c6-813d-83baa4603a95",
   "metadata": {},
   "outputs": [],
   "source": [
    "def generate_response(prompt, model, tokenizer, max_length=50):\n",
    "    encoded_input = tokenizer.encode_plus(\n",
    "        prompt,\n",
    "        return_tensors='pt',\n",
    "        padding=True,\n",
    "        truncation=True,\n",
    "        max_length=max_length,\n",
    "        return_attention_mask=True\n",
    "    )\n",
    "    \n",
    "    outputs = model.generate(\n",
    "        input_ids=encoded_input['input_ids'],\n",
    "        attention_mask=encoded_input['attention_mask'],\n",
    "        max_length=max_length,\n",
    "        num_return_sequences=1,\n",
    "        no_repeat_ngram_size=2,\n",
    "        do_sample=True,\n",
    "        top_k=50,\n",
    "        top_p=0.95,\n",
    "        temperature=0.7,\n",
    "        pad_token_id=tokenizer.eos_token_id \n",
    "    )\n",
    "    \n",
    "    response = tokenizer.decode(outputs[0], skip_special_tokens=True)\n",
    "    return response\n"
   ]
  },
  {
   "cell_type": "code",
   "execution_count": 82,
   "id": "1f4a37f7-64fe-4147-b078-774d0088ee78",
   "metadata": {},
   "outputs": [],
   "source": [
    "def test_model():\n",
    "    model = GPT2LMHeadModel.from_pretrained('./chat-model-final')\n",
    "    tokenizer = GPT2Tokenizer.from_pretrained('./chat-model-final')\n",
    "    \n",
    "    if tokenizer.pad_token is None:\n",
    "        tokenizer.pad_token = tokenizer.eos_token\n",
    "        model.config.pad_token_id = model.config.eos_token_id\n",
    "    \n",
    "    test_prompts = [\n",
    "        \"Halo\",\n",
    "        \"udah\",\n",
    "        \"aku baik\"\n",
    "    ]\n",
    "    \n",
    "    print(\"Testing chat model responses:\")\n",
    "    print(\"-\" * 50)\n",
    "    for prompt in test_prompts:\n",
    "        response = generate_response(prompt, model, tokenizer)\n",
    "        print(f\"Input: {prompt}\")\n",
    "        print(f\"Response: {response}\")\n",
    "        print(\"-\" * 50)"
   ]
  },
  {
   "cell_type": "code",
   "execution_count": 83,
   "id": "5b07f709-193f-4478-a07b-95600740f315",
   "metadata": {},
   "outputs": [
    {
     "name": "stdout",
     "output_type": "stream",
     "text": [
      "Testing chat model responses:\n",
      "--------------------------------------------------\n",
      "Input: Halo\n",
      "Response: Halo belum air putih ya.\n",
      "--------------------------------------------------\n",
      "Input: udah\n",
      "Response: udah makan belum?\n",
      "--------------------------------------------------\n",
      "Input: aku baik\n",
      "Response: aku baikut gathering tidak?\n",
      "--------------------------------------------------\n"
     ]
    }
   ],
   "source": [
    "if __name__ == \"__main__\":\n",
    "    test_model()"
   ]
  },
  {
   "cell_type": "code",
   "execution_count": null,
   "id": "5aa1250f-550b-4713-bc32-e00938987f19",
   "metadata": {},
   "outputs": [],
   "source": []
  }
 ],
 "metadata": {
  "kernelspec": {
   "display_name": "Python 3 (ipykernel)",
   "language": "python",
   "name": "python3"
  },
  "language_info": {
   "codemirror_mode": {
    "name": "ipython",
    "version": 3
   },
   "file_extension": ".py",
   "mimetype": "text/x-python",
   "name": "python",
   "nbconvert_exporter": "python",
   "pygments_lexer": "ipython3",
   "version": "3.12.8"
  }
 },
 "nbformat": 4,
 "nbformat_minor": 5
}
